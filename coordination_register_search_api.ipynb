{
 "metadata": {
  "language_info": {
   "codemirror_mode": {
    "name": "ipython",
    "version": 3
   },
   "file_extension": ".py",
   "mimetype": "text/x-python",
   "name": "python",
   "nbconvert_exporter": "python",
   "pygments_lexer": "ipython3",
   "version": "3.9.1"
  },
  "orig_nbformat": 2,
  "kernelspec": {
   "name": "python3",
   "display_name": "Python 3",
   "language": "python"
  },
  "metadata": {
   "interpreter": {
    "hash": "ecd29ab2faa24e79e93bd60ef0ffd6095313ed658af1afd1fe7b016bef9443a6"
   }
  }
 },
 "nbformat": 4,
 "nbformat_minor": 2,
 "cells": [
  {
   "source": [
    "# Using the search-API for the Norwegian Central Coordinating Register for Legal Entities\n"
   ],
   "cell_type": "markdown",
   "metadata": {}
  },
  {
   "cell_type": "code",
   "execution_count": null,
   "metadata": {},
   "outputs": [],
   "source": [
    "!pip install requests"
   ]
  },
  {
   "cell_type": "code",
   "execution_count": 1,
   "metadata": {},
   "outputs": [],
   "source": [
    "import requests"
   ]
  },
  {
   "source": [
    "## Example: Get organisations with a certain activity type (NACE-code)\n"
   ],
   "cell_type": "markdown",
   "metadata": {}
  },
  {
   "source": [
    "Let's say we want a list of organisation of the activity type of public libraries. There are two NACE-codes, 91.011 and 91.012 that are relevant. The search-API offers a [large set of properties](https://data.brreg.no/enhetsregisteret/api/docs/index.html#enheter-sok-detaljer) that can be used to specify the search, as query parameters to the API. In our case, we use the parameter naeringskode which takes a list of NACE-codes. In addition to the list of NACE-codes, we specify that we want the first page (i.e. 0), as well as the size of each page. To make the output easier to read we choose a low number, 2."
   ],
   "cell_type": "markdown",
   "metadata": {}
  },
  {
   "cell_type": "code",
   "execution_count": 2,
   "metadata": {},
   "outputs": [],
   "source": [
    "query_parametre = { 'naeringskode': [91.011,91.012], 'page': 0, 'size': 2 }"
   ]
  },
  {
   "source": [
    "Now we are ready to run the request and save the result in the variable req:"
   ],
   "cell_type": "markdown",
   "metadata": {}
  },
  {
   "cell_type": "code",
   "execution_count": 3,
   "metadata": {},
   "outputs": [],
   "source": [
    "req = requests.get('https://data.brreg.no/enhetsregisteret/api/enheter', params=query_parametre)"
   ]
  },
  {
   "source": [
    "As we have requested a small size, we could show the result immediatly, but often it is OK to check if the request was successful, and look for status codes of 2xx:"
   ],
   "cell_type": "markdown",
   "metadata": {}
  },
  {
   "cell_type": "code",
   "execution_count": 4,
   "metadata": {},
   "outputs": [
    {
     "output_type": "execute_result",
     "data": {
      "text/plain": [
       "200"
      ]
     },
     "metadata": {},
     "execution_count": 4
    }
   ],
   "source": [
    "req.status_code"
   ]
  },
  {
   "source": [
    "If the status_code is 200, we can use the text-attribute to see the results. But since we are using an API that serves JSON, the formatting is better if we use the json-method:"
   ],
   "cell_type": "markdown",
   "metadata": {}
  },
  {
   "cell_type": "code",
   "execution_count": 16,
   "metadata": {},
   "outputs": [
    {
     "output_type": "execute_result",
     "data": {
      "text/plain": [
       "{'_embedded': {'enheter': [{'organisasjonsnummer': '920989330',\n",
       "    'navn': 'F.DELBANCO GMBH & CO.KG',\n",
       "    'organisasjonsform': {'kode': 'NUF',\n",
       "     'beskrivelse': 'Norskregistrert utenlandsk foretak',\n",
       "     '_links': {'self': {'href': 'https://data.brreg.no/enhetsregisteret/api/organisasjonsformer/NUF'}}},\n",
       "    'registreringsdatoEnhetsregisteret': '2018-07-13',\n",
       "    'registrertIMvaregisteret': False,\n",
       "    'naeringskode1': {'beskrivelse': 'Drift av fag- og forskningsbiblioteker',\n",
       "     'kode': '91.012'},\n",
       "    'antallAnsatte': 0,\n",
       "    'forretningsadresse': {'land': 'Tyskland',\n",
       "     'landkode': 'DE',\n",
       "     'poststed': '21339 Lüneburg',\n",
       "     'adresse': ['Bessemerstrasse 3']},\n",
       "    'registrertIForetaksregisteret': False,\n",
       "    'registrertIStiftelsesregisteret': False,\n",
       "    'registrertIFrivillighetsregisteret': False,\n",
       "    'konkurs': False,\n",
       "    'underAvvikling': False,\n",
       "    'underTvangsavviklingEllerTvangsopplosning': False,\n",
       "    'maalform': 'Bokmål',\n",
       "    '_links': {'self': {'href': 'https://data.brreg.no/enhetsregisteret/api/enheter/920989330'}}},\n",
       "   {'organisasjonsnummer': '984456573',\n",
       "    'navn': 'STIFTELSEN DE ANKERSKE SAMLINGER',\n",
       "    'organisasjonsform': {'kode': 'STI',\n",
       "     'beskrivelse': 'Stiftelse',\n",
       "     '_links': {'self': {'href': 'https://data.brreg.no/enhetsregisteret/api/organisasjonsformer/STI'}}},\n",
       "    'hjemmeside': 'www.halden.museum.no',\n",
       "    'registreringsdatoEnhetsregisteret': '2003-03-18',\n",
       "    'registrertIMvaregisteret': False,\n",
       "    'naeringskode1': {'beskrivelse': 'Drift av folkebiblioteker',\n",
       "     'kode': '91.011'},\n",
       "    'antallAnsatte': 0,\n",
       "    'forretningsadresse': {'land': 'Norge',\n",
       "     'landkode': 'NO',\n",
       "     'postnummer': '1771',\n",
       "     'poststed': 'HALDEN',\n",
       "     'adresse': ['Herregårdsveien 10'],\n",
       "     'kommune': 'HALDEN',\n",
       "     'kommunenummer': '3001'},\n",
       "    'stiftelsesdato': '1961-08-21',\n",
       "    'institusjonellSektorkode': {'kode': '7000',\n",
       "     'beskrivelse': 'Ideelle organisasjoner'},\n",
       "    'registrertIForetaksregisteret': False,\n",
       "    'registrertIStiftelsesregisteret': True,\n",
       "    'registrertIFrivillighetsregisteret': False,\n",
       "    'sisteInnsendteAarsregnskap': '2019',\n",
       "    'konkurs': False,\n",
       "    'underAvvikling': False,\n",
       "    'underTvangsavviklingEllerTvangsopplosning': False,\n",
       "    'maalform': 'Bokmål',\n",
       "    '_links': {'self': {'href': 'https://data.brreg.no/enhetsregisteret/api/enheter/984456573'}}}]},\n",
       " '_links': {'first': {'href': 'https://data.brreg.no/enhetsregisteret/api/enheter/?naeringskode=91.011&naeringskode=91.012&page=0&size=2'},\n",
       "  'self': {'href': 'https://data.brreg.no/enhetsregisteret/api/enheter/?naeringskode=91.011&naeringskode=91.012&page=0&size=2'},\n",
       "  'next': {'href': 'https://data.brreg.no/enhetsregisteret/api/enheter/?naeringskode=91.011&naeringskode=91.012&page=1&size=2'},\n",
       "  'last': {'href': 'https://data.brreg.no/enhetsregisteret/api/enheter/?naeringskode=91.011&naeringskode=91.012&page=10&size=2'}},\n",
       " 'page': {'size': 2, 'totalElements': 21, 'totalPages': 11, 'number': 0}}"
      ]
     },
     "metadata": {},
     "execution_count": 16
    }
   ],
   "source": [
    "req.json()"
   ]
  },
  {
   "cell_type": "code",
   "execution_count": null,
   "metadata": {},
   "outputs": [],
   "source": [
    "### Storing the relevant data in a separate variable\n",
    "Let's save the relevant part of the first response to a variable results. The relevant part is situated in a list under  _embedded > enheter. First we create the variable result, then we add the relevant content."
   ]
  },
  {
   "cell_type": "code",
   "execution_count": 1,
   "metadata": {},
   "outputs": [],
   "source": [
    "result = []\n",
    "result += req.json()['_embedded']['enheter']"
   ]
  },
  {
   "cell_type": "code",
   "execution_count": 31,
   "metadata": {},
   "outputs": [
    {
     "output_type": "execute_result",
     "data": {
      "text/plain": [
       "[{'organisasjonsnummer': '920989330',\n",
       "  'navn': 'F.DELBANCO GMBH & CO.KG',\n",
       "  'organisasjonsform': {'kode': 'NUF',\n",
       "   'beskrivelse': 'Norskregistrert utenlandsk foretak',\n",
       "   '_links': {'self': {'href': 'https://data.brreg.no/enhetsregisteret/api/organisasjonsformer/NUF'}}},\n",
       "  'registreringsdatoEnhetsregisteret': '2018-07-13',\n",
       "  'registrertIMvaregisteret': False,\n",
       "  'naeringskode1': {'beskrivelse': 'Drift av fag- og forskningsbiblioteker',\n",
       "   'kode': '91.012'},\n",
       "  'antallAnsatte': 0,\n",
       "  'forretningsadresse': {'land': 'Tyskland',\n",
       "   'landkode': 'DE',\n",
       "   'poststed': '21339 Lüneburg',\n",
       "   'adresse': ['Bessemerstrasse 3']},\n",
       "  'registrertIForetaksregisteret': False,\n",
       "  'registrertIStiftelsesregisteret': False,\n",
       "  'registrertIFrivillighetsregisteret': False,\n",
       "  'konkurs': False,\n",
       "  'underAvvikling': False,\n",
       "  'underTvangsavviklingEllerTvangsopplosning': False,\n",
       "  'maalform': 'Bokmål',\n",
       "  '_links': {'self': {'href': 'https://data.brreg.no/enhetsregisteret/api/enheter/920989330'}}},\n",
       " {'organisasjonsnummer': '984456573',\n",
       "  'navn': 'STIFTELSEN DE ANKERSKE SAMLINGER',\n",
       "  'organisasjonsform': {'kode': 'STI',\n",
       "   'beskrivelse': 'Stiftelse',\n",
       "   '_links': {'self': {'href': 'https://data.brreg.no/enhetsregisteret/api/organisasjonsformer/STI'}}},\n",
       "  'hjemmeside': 'www.halden.museum.no',\n",
       "  'registreringsdatoEnhetsregisteret': '2003-03-18',\n",
       "  'registrertIMvaregisteret': False,\n",
       "  'naeringskode1': {'beskrivelse': 'Drift av folkebiblioteker',\n",
       "   'kode': '91.011'},\n",
       "  'antallAnsatte': 0,\n",
       "  'forretningsadresse': {'land': 'Norge',\n",
       "   'landkode': 'NO',\n",
       "   'postnummer': '1771',\n",
       "   'poststed': 'HALDEN',\n",
       "   'adresse': ['Herregårdsveien 10'],\n",
       "   'kommune': 'HALDEN',\n",
       "   'kommunenummer': '3001'},\n",
       "  'stiftelsesdato': '1961-08-21',\n",
       "  'institusjonellSektorkode': {'kode': '7000',\n",
       "   'beskrivelse': 'Ideelle organisasjoner'},\n",
       "  'registrertIForetaksregisteret': False,\n",
       "  'registrertIStiftelsesregisteret': True,\n",
       "  'registrertIFrivillighetsregisteret': False,\n",
       "  'sisteInnsendteAarsregnskap': '2019',\n",
       "  'konkurs': False,\n",
       "  'underAvvikling': False,\n",
       "  'underTvangsavviklingEllerTvangsopplosning': False,\n",
       "  'maalform': 'Bokmål',\n",
       "  '_links': {'self': {'href': 'https://data.brreg.no/enhetsregisteret/api/enheter/984456573'}}}]"
      ]
     },
     "metadata": {},
     "execution_count": 31
    }
   ],
   "source": [
    "result"
   ]
  },
  {
   "source": [
    "### Accessing the full result set with \"page\" and \"size\"\n",
    "Based on the parameters it is likely that your result only contains a limited amount of the total result. The last element in the JSON-response, is information about how many elements, and how many pages with results, we have. We can focus on this element by treating it as a dictionary, and use 'page' as the key:"
   ],
   "cell_type": "markdown",
   "metadata": {}
  },
  {
   "cell_type": "code",
   "execution_count": 18,
   "metadata": {},
   "outputs": [
    {
     "output_type": "execute_result",
     "data": {
      "text/plain": [
       "{'size': 2, 'totalElements': 21, 'totalPages': 11, 'number': 0}"
      ]
     },
     "metadata": {},
     "execution_count": 18
    }
   ],
   "source": [
    "req.json()['page']"
   ]
  },
  {
   "source": [
    "To move forward in the list of pages, we can just update the relevant attribute in the variable query_parametre:\n"
   ],
   "cell_type": "markdown",
   "metadata": {}
  },
  {
   "cell_type": "code",
   "execution_count": 42,
   "metadata": {},
   "outputs": [],
   "source": [
    "query_parametre['page'] += 1"
   ]
  },
  {
   "source": [
    "Then we can re-run the request.\n"
   ],
   "cell_type": "markdown",
   "metadata": {}
  },
  {
   "cell_type": "code",
   "execution_count": 43,
   "metadata": {},
   "outputs": [],
   "source": [
    "req = requests.get('https://data.brreg.no/enhetsregisteret/api/enheter', params=query_parametre)"
   ]
  },
  {
   "source": [
    "Let's check if we got page two (which has number 1 ...):"
   ],
   "cell_type": "markdown",
   "metadata": {}
  },
  {
   "cell_type": "code",
   "execution_count": 44,
   "metadata": {},
   "outputs": [
    {
     "output_type": "execute_result",
     "data": {
      "text/plain": [
       "{'size': 2, 'totalElements': 21, 'totalPages': 11, 'number': 2}"
      ]
     },
     "metadata": {},
     "execution_count": 44
    }
   ],
   "source": [
    "req.json()['page']"
   ]
  },
  {
   "source": [
    "Now we can update our variable result with the new data by repeating the code that copied the relevant data to our variable result:"
   ],
   "cell_type": "markdown",
   "metadata": {}
  },
  {
   "cell_type": "code",
   "execution_count": 45,
   "metadata": {},
   "outputs": [],
   "source": [
    "result += req.json()['_embedded']['enheter']"
   ]
  },
  {
   "source": [
    "If our calculations are correct, the variable result should now be a list with four elements, each representing an organisation:"
   ],
   "cell_type": "markdown",
   "metadata": {}
  },
  {
   "cell_type": "code",
   "execution_count": 35,
   "metadata": {},
   "outputs": [
    {
     "output_type": "execute_result",
     "data": {
      "text/plain": [
       "4"
      ]
     },
     "metadata": {},
     "execution_count": 35
    }
   ],
   "source": [
    "len(result)"
   ]
  },
  {
   "source": [
    "Let's get a summary of the identifier, name and type of these elements. In Python this can be done with a for-loop, iterating through each element and extracting the relevant information. It can also be written as a list-comprehension as follows:"
   ],
   "cell_type": "markdown",
   "metadata": {}
  },
  {
   "cell_type": "code",
   "execution_count": 46,
   "metadata": {},
   "outputs": [
    {
     "output_type": "execute_result",
     "data": {
      "text/plain": [
       "[('920989330', 'F.DELBANCO GMBH & CO.KG', 'NUF'),\n",
       " ('984456573', 'STIFTELSEN DE ANKERSKE SAMLINGER', 'STI'),\n",
       " ('984456573', 'STIFTELSEN DE ANKERSKE SAMLINGER', 'STI'),\n",
       " ('916087330', \"SIGMUND HALDÅS' SAMLINGER\", 'FLI'),\n",
       " ('982132541', 'KARASJOGA GIELDA / KARASJOK KOMMUNE BOKBUSSEN', 'ORGL'),\n",
       " ('986418989', 'HEMSEDAL HISTORIELAG', 'FLI')]"
      ]
     },
     "metadata": {},
     "execution_count": 46
    }
   ],
   "source": [
    "[(e['organisasjonsnummer'], e['navn'], e['organisasjonsform']['kode']) for e in result]"
   ]
  },
  {
   "source": [
    "There is a risk that in the time between accessing the different pages, the content changes so that the same organisation listed in the bottom of one page becomes the first on the next page, or something similar, as the result-list is not kept static after the first request. So when using the results, it might be a good idea to remove duplicates."
   ],
   "cell_type": "markdown",
   "metadata": {}
  },
  {
   "source": [
    "### Automatically fetching all pages\n",
    "Manually fetching each page is a bit tedious, even though in our example there is no more than ten pages. In our example there are not more than 21 elements in total, and if we increased size parameter in the request we would be able to get all elements in one response. Alternativly you can loop through the pages, and add the elements to your variable result.\n",
    "\n",
    "*Warning*\n",
    "\n",
    "There is an *important limitation* in the search-API that limits how many organisations it is possible to get access to using the search-API demonstrated here: If the sum of (page+1)*size > 10 000, the API returns and error (HTTP 400, \"Bad request\"). In our example it is not relevant, but if you get a response where the first page reports a \"totalElements\" of 10 000 or more, it will not be possible to get to more than the first 10 000 elements. Instead, you should use the functionality to download the full dataset. See [REF] for how to do that.\n",
    "\n",
    "*Alternative 1*, changing the size of each page to a high enough number. In our case 50 is more than enough. Don't forget to make sure you ask for the first page, in case you have set the page-parameter earlier:"
   ],
   "cell_type": "markdown",
   "metadata": {}
  },
  {
   "cell_type": "code",
   "execution_count": 48,
   "metadata": {},
   "outputs": [],
   "source": [
    "result_full = []\n",
    "query_parametre = { 'naeringskode': [91.011,91.012], 'page': 0, 'size': 50 }\n",
    "req = requests.get('https://data.brreg.no/enhetsregisteret/api/enheter', params=query_parametre)"
   ]
  },
  {
   "cell_type": "code",
   "execution_count": 49,
   "metadata": {},
   "outputs": [],
   "source": [
    "result_full += req.json()['_embedded']['enheter']"
   ]
  },
  {
   "source": [
    "This should result in the same length of the variable list result_full as reported as \"totalElements\"."
   ],
   "cell_type": "markdown",
   "metadata": {}
  },
  {
   "cell_type": "code",
   "execution_count": 58,
   "metadata": {},
   "outputs": [
    {
     "output_type": "execute_result",
     "data": {
      "text/plain": [
       "True"
      ]
     },
     "metadata": {},
     "execution_count": 58
    }
   ],
   "source": [
    "req.json()['page']['totalElements'] == len(result_full)"
   ]
  },
  {
   "source": [
    "*Alternative 2*, looping through all the pages, adding the result to a variable list"
   ],
   "cell_type": "markdown",
   "metadata": {}
  },
  {
   "cell_type": "code",
   "execution_count": 56,
   "metadata": {},
   "outputs": [],
   "source": [
    "result_full_through_looping = []\n",
    "query_parametre = { 'naeringskode': [91.011,91.012], 'page': 0, 'size': 2 }\n",
    "url = 'https://data.brreg.no/enhetsregisteret/api/enheter'\n",
    "\n",
    "req = requests.get(url, params=query_parametre) # Only to know size of result\n",
    "\n",
    "total_pages = req.json()['page']['totalPages']\n",
    "\n",
    "while query_parametre['page'] < total_pages:\n",
    "    req = requests.get(url, params=query_parametre)\n",
    "    result_full_through_looping += req.json()['_embedded']['enheter']\n",
    "\n",
    "    # prepare for next iteration, updating the page-parameter in the request\n",
    "    query_parametre['page'] += 1\n",
    "\n"
   ]
  },
  {
   "cell_type": "code",
   "execution_count": 59,
   "metadata": {},
   "outputs": [
    {
     "output_type": "execute_result",
     "data": {
      "text/plain": [
       "True"
      ]
     },
     "metadata": {},
     "execution_count": 59
    }
   ],
   "source": [
    "req.json()['page']['totalElements'] == len(result_full_through_looping)"
   ]
  },
  {
   "source": [],
   "cell_type": "markdown",
   "metadata": {}
  },
  {
   "cell_type": "code",
   "execution_count": 73,
   "metadata": {},
   "outputs": [],
   "source": [
    "df = pd.read_json('er.json', compression='gzip' )"
   ]
  },
  {
   "cell_type": "code",
   "execution_count": 14,
   "metadata": {},
   "outputs": [
    {
     "output_type": "stream",
     "name": "stdout",
     "text": [
      "<class 'pandas.core.frame.DataFrame'>\nRangeIndex: 1037749 entries, 0 to 1037748\nData columns (total 43 columns):\n #   Column                                        Non-Null Count    Dtype  \n---  ------                                        --------------    -----  \n 0   Organisasjonsnummer                           1037749 non-null  int64  \n 1   Navn                                          1037749 non-null  object \n 2   Organisasjonsform.kode                        1037749 non-null  object \n 3   Organisasjonsform.beskrivelse                 1037749 non-null  object \n 4   Næringskode 1                                 982062 non-null   float64\n 5   Næringskode 1.beskrivelse                     982062 non-null   object \n 6   Næringskode 2                                 38573 non-null    float64\n 7   Næringskode 2.beskrivelse                     38573 non-null    object \n 8   Næringskode 3                                 1562 non-null     float64\n 9   Næringskode 3.beskrivelse                     1562 non-null     object \n 10  Hjelpeenhetskode                              20386 non-null    float64\n 11  Hjelpeenhetskode.beskrivelse                  20386 non-null    object \n 12  Antall ansatte                                1037749 non-null  int64  \n 13  Hjemmeside                                    120182 non-null   object \n 14  Postadresse.adresse                           207005 non-null   object \n 15  Postadresse.poststed                          208900 non-null   object \n 16  Postadresse.postnummer                        199149 non-null   float64\n 17  Postadresse.kommune                           199149 non-null   object \n 18  Postadresse.kommunenummer                     199149 non-null   float64\n 19  Postadresse.land                              208901 non-null   object \n 20  Postadresse.landkode                          208898 non-null   object \n 21  Forretningsadresse.adresse                    992055 non-null   object \n 22  Forretningsadresse.poststed                   1022845 non-null  object \n 23  Forretningsadresse.postnummer                 984353 non-null   float64\n 24  Forretningsadresse.kommune                    984353 non-null   object \n 25  Forretningsadresse.kommunenummer              984353 non-null   float64\n 26  Forretningsadresse.land                       1022845 non-null  object \n 27  Forretningsadresse.landkode                   1022844 non-null  object \n 28  Institusjonell sektorkode                     954783 non-null   float64\n 29  Institusjonell sektorkode.beskrivelse         954783 non-null   object \n 30  Siste innsendte årsregnskap                   355677 non-null   float64\n 31  Registreringsdato i Enhetsregisteret          1037749 non-null  object \n 32  Stiftelsesdato                                578546 non-null   object \n 33  FrivilligRegistrertIMvaregisteret             46694 non-null    object \n 34  Registrert i MVA-registeret                   1037749 non-null  object \n 35  Registrert i Frivillighetsregisteret          1037749 non-null  object \n 36  Registrert i Foretaksregisteret               1037749 non-null  object \n 37  Registrert i Stiftelsesregisteret             1037749 non-null  object \n 38  Konkurs                                       1037749 non-null  object \n 39  Under avvikling                               1037749 non-null  object \n 40  Under tvangsavvikling eller tvangsoppløsning  1037749 non-null  object \n 41  Overordnet enhet i offentlig sektor           1980 non-null     float64\n 42  Målform                                       1037749 non-null  object \ndtypes: float64(11), int64(2), object(30)\nmemory usage: 340.4+ MB\n"
     ]
    }
   ],
   "source": [
    "df.info()"
   ]
  },
  {
   "cell_type": "code",
   "execution_count": 20,
   "metadata": {},
   "outputs": [],
   "source": [
    "df_sample = df.sample(10000)"
   ]
  },
  {
   "cell_type": "code",
   "execution_count": 21,
   "metadata": {},
   "outputs": [
    {
     "output_type": "execute_result",
     "data": {
      "text/plain": [
       "10000"
      ]
     },
     "metadata": {},
     "execution_count": 21
    }
   ],
   "source": [
    "len(df_sample)"
   ]
  },
  {
   "cell_type": "code",
   "execution_count": 22,
   "metadata": {},
   "outputs": [
    {
     "output_type": "execute_result",
     "data": {
      "text/plain": [
       "       Organisasjonsnummer  Næringskode 1  Næringskode 2  Næringskode 3  \\\n",
       "count         1.000000e+04    9447.000000     383.000000      20.000000   \n",
       "mean          9.434304e+08      59.785001      42.585413      30.136350   \n",
       "std           4.379487e+07      29.479587      32.339305      33.282255   \n",
       "min           8.115488e+08       0.000000       0.000000       1.110000   \n",
       "25%           9.184943e+08      43.341000       2.200000       2.052500   \n",
       "50%           9.260621e+08      68.209000      68.209000       5.155500   \n",
       "75%           9.854556e+08      86.211000      70.100000      54.821250   \n",
       "max           9.996668e+08      97.000000      96.010000      81.101000   \n",
       "\n",
       "       Hjelpeenhetskode  Antall ansatte  Postadresse.postnummer  \\\n",
       "count        196.000000      10000.0000             1892.000000   \n",
       "mean          65.342204          2.7470             3796.597252   \n",
       "std           16.788348         41.7555             2851.340814   \n",
       "min            0.000000          0.0000               28.000000   \n",
       "25%           68.209000          0.0000             1337.000000   \n",
       "50%           70.100000          0.0000             3455.500000   \n",
       "75%           70.100000          0.0000             5863.000000   \n",
       "max           82.990000       2350.0000             9991.000000   \n",
       "\n",
       "       Postadresse.kommunenummer  Forretningsadresse.postnummer  \\\n",
       "count                1892.000000                    9461.000000   \n",
       "mean                 2774.402748                    3902.312335   \n",
       "std                  1739.036626                    2616.633611   \n",
       "min                   301.000000                      26.000000   \n",
       "25%                  1103.000000                    1593.000000   \n",
       "50%                  3024.000000                    3619.000000   \n",
       "75%                  4224.250000                    5690.000000   \n",
       "max                  5444.000000                    9990.000000   \n",
       "\n",
       "       Forretningsadresse.kommunenummer  Institusjonell sektorkode  \\\n",
       "count                       9461.000000                9153.000000   \n",
       "mean                        2916.015537                5575.314105   \n",
       "std                         1646.625832                2859.231711   \n",
       "min                          301.000000                1120.000000   \n",
       "25%                         1506.000000                2100.000000   \n",
       "50%                         3030.000000                7000.000000   \n",
       "75%                         4225.000000                8200.000000   \n",
       "max                         5444.000000                8300.000000   \n",
       "\n",
       "       Siste innsendte årsregnskap  Overordnet enhet i offentlig sektor  \n",
       "count                  3360.000000                         2.100000e+01  \n",
       "mean                   2019.007738                         9.470322e+08  \n",
       "std                       1.147087                         3.641421e+07  \n",
       "min                    2002.000000                         8.649660e+08  \n",
       "25%                    2019.000000                         9.396077e+08  \n",
       "50%                    2019.000000                         9.594123e+08  \n",
       "75%                    2019.000000                         9.649636e+08  \n",
       "max                    2020.000000                         9.910121e+08  "
      ],
      "text/html": "<div>\n<style scoped>\n    .dataframe tbody tr th:only-of-type {\n        vertical-align: middle;\n    }\n\n    .dataframe tbody tr th {\n        vertical-align: top;\n    }\n\n    .dataframe thead th {\n        text-align: right;\n    }\n</style>\n<table border=\"1\" class=\"dataframe\">\n  <thead>\n    <tr style=\"text-align: right;\">\n      <th></th>\n      <th>Organisasjonsnummer</th>\n      <th>Næringskode 1</th>\n      <th>Næringskode 2</th>\n      <th>Næringskode 3</th>\n      <th>Hjelpeenhetskode</th>\n      <th>Antall ansatte</th>\n      <th>Postadresse.postnummer</th>\n      <th>Postadresse.kommunenummer</th>\n      <th>Forretningsadresse.postnummer</th>\n      <th>Forretningsadresse.kommunenummer</th>\n      <th>Institusjonell sektorkode</th>\n      <th>Siste innsendte årsregnskap</th>\n      <th>Overordnet enhet i offentlig sektor</th>\n    </tr>\n  </thead>\n  <tbody>\n    <tr>\n      <th>count</th>\n      <td>1.000000e+04</td>\n      <td>9447.000000</td>\n      <td>383.000000</td>\n      <td>20.000000</td>\n      <td>196.000000</td>\n      <td>10000.0000</td>\n      <td>1892.000000</td>\n      <td>1892.000000</td>\n      <td>9461.000000</td>\n      <td>9461.000000</td>\n      <td>9153.000000</td>\n      <td>3360.000000</td>\n      <td>2.100000e+01</td>\n    </tr>\n    <tr>\n      <th>mean</th>\n      <td>9.434304e+08</td>\n      <td>59.785001</td>\n      <td>42.585413</td>\n      <td>30.136350</td>\n      <td>65.342204</td>\n      <td>2.7470</td>\n      <td>3796.597252</td>\n      <td>2774.402748</td>\n      <td>3902.312335</td>\n      <td>2916.015537</td>\n      <td>5575.314105</td>\n      <td>2019.007738</td>\n      <td>9.470322e+08</td>\n    </tr>\n    <tr>\n      <th>std</th>\n      <td>4.379487e+07</td>\n      <td>29.479587</td>\n      <td>32.339305</td>\n      <td>33.282255</td>\n      <td>16.788348</td>\n      <td>41.7555</td>\n      <td>2851.340814</td>\n      <td>1739.036626</td>\n      <td>2616.633611</td>\n      <td>1646.625832</td>\n      <td>2859.231711</td>\n      <td>1.147087</td>\n      <td>3.641421e+07</td>\n    </tr>\n    <tr>\n      <th>min</th>\n      <td>8.115488e+08</td>\n      <td>0.000000</td>\n      <td>0.000000</td>\n      <td>1.110000</td>\n      <td>0.000000</td>\n      <td>0.0000</td>\n      <td>28.000000</td>\n      <td>301.000000</td>\n      <td>26.000000</td>\n      <td>301.000000</td>\n      <td>1120.000000</td>\n      <td>2002.000000</td>\n      <td>8.649660e+08</td>\n    </tr>\n    <tr>\n      <th>25%</th>\n      <td>9.184943e+08</td>\n      <td>43.341000</td>\n      <td>2.200000</td>\n      <td>2.052500</td>\n      <td>68.209000</td>\n      <td>0.0000</td>\n      <td>1337.000000</td>\n      <td>1103.000000</td>\n      <td>1593.000000</td>\n      <td>1506.000000</td>\n      <td>2100.000000</td>\n      <td>2019.000000</td>\n      <td>9.396077e+08</td>\n    </tr>\n    <tr>\n      <th>50%</th>\n      <td>9.260621e+08</td>\n      <td>68.209000</td>\n      <td>68.209000</td>\n      <td>5.155500</td>\n      <td>70.100000</td>\n      <td>0.0000</td>\n      <td>3455.500000</td>\n      <td>3024.000000</td>\n      <td>3619.000000</td>\n      <td>3030.000000</td>\n      <td>7000.000000</td>\n      <td>2019.000000</td>\n      <td>9.594123e+08</td>\n    </tr>\n    <tr>\n      <th>75%</th>\n      <td>9.854556e+08</td>\n      <td>86.211000</td>\n      <td>70.100000</td>\n      <td>54.821250</td>\n      <td>70.100000</td>\n      <td>0.0000</td>\n      <td>5863.000000</td>\n      <td>4224.250000</td>\n      <td>5690.000000</td>\n      <td>4225.000000</td>\n      <td>8200.000000</td>\n      <td>2019.000000</td>\n      <td>9.649636e+08</td>\n    </tr>\n    <tr>\n      <th>max</th>\n      <td>9.996668e+08</td>\n      <td>97.000000</td>\n      <td>96.010000</td>\n      <td>81.101000</td>\n      <td>82.990000</td>\n      <td>2350.0000</td>\n      <td>9991.000000</td>\n      <td>5444.000000</td>\n      <td>9990.000000</td>\n      <td>5444.000000</td>\n      <td>8300.000000</td>\n      <td>2020.000000</td>\n      <td>9.910121e+08</td>\n    </tr>\n  </tbody>\n</table>\n</div>"
     },
     "metadata": {},
     "execution_count": 22
    }
   ],
   "source": [
    "df_sample.describe()"
   ]
  },
  {
   "cell_type": "code",
   "execution_count": 87,
   "metadata": {},
   "outputs": [],
   "source": [
    "df_sample['organisasjonsnummer'] = df_sample['organisasjonsnummer'].astype('string')"
   ]
  },
  {
   "cell_type": "code",
   "execution_count": 89,
   "metadata": {},
   "outputs": [],
   "source": [
    "df_sample['overordnetEnhet'] = df_sample['overordnetEnhet'].astype('string')"
   ]
  },
  {
   "cell_type": "code",
   "execution_count": 91,
   "metadata": {},
   "outputs": [
    {
     "output_type": "execute_result",
     "data": {
      "text/plain": [
       "Index(['organisasjonsnummer', 'navn', 'organisasjonsform',\n",
       "       'registreringsdatoEnhetsregisteret', 'registrertIMvaregisteret',\n",
       "       'naeringskode1', 'antallAnsatte', 'forretningsadresse',\n",
       "       'institusjonellSektorkode', 'registrertIForetaksregisteret',\n",
       "       'registrertIStiftelsesregisteret', 'registrertIFrivillighetsregisteret',\n",
       "       'konkurs', 'underAvvikling',\n",
       "       'underTvangsavviklingEllerTvangsopplosning', 'maalform', 'links',\n",
       "       'stiftelsesdato', 'postadresse', 'naeringskode2', 'hjemmeside',\n",
       "       'sisteInnsendteAarsregnskap', 'frivilligMvaRegistrertBeskrivelser',\n",
       "       'naeringskode3', 'overordnetEnhet'],\n",
       "      dtype='object')"
      ]
     },
     "metadata": {},
     "execution_count": 91
    }
   ],
   "source": [
    "df.columns"
   ]
  },
  {
   "cell_type": "code",
   "execution_count": 28,
   "metadata": {},
   "outputs": [
    {
     "output_type": "execute_result",
     "data": {
      "text/plain": [
       "0                 NaN\n",
       "1                 NaN\n",
       "2          1990-01-30\n",
       "3                 NaN\n",
       "4                 NaN\n",
       "              ...    \n",
       "1037744    2021-04-20\n",
       "1037745           NaN\n",
       "1037746           NaN\n",
       "1037747    2021-03-26\n",
       "1037748    2021-02-05\n",
       "Name: Stiftelsesdato, Length: 1037749, dtype: object"
      ]
     },
     "metadata": {},
     "execution_count": 28
    }
   ],
   "source": [
    "df['Stiftelsesdato']"
   ]
  },
  {
   "cell_type": "code",
   "execution_count": 44,
   "metadata": {},
   "outputs": [
    {
     "output_type": "execute_result",
     "data": {
      "text/plain": [
       "0                NaT\n",
       "1                NaT\n",
       "2         1990-01-30\n",
       "3                NaT\n",
       "4                NaT\n",
       "             ...    \n",
       "1037744   2021-04-20\n",
       "1037745          NaT\n",
       "1037746          NaT\n",
       "1037747   2021-03-26\n",
       "1037748   2021-02-05\n",
       "Name: Stiftelsesdato, Length: 1037749, dtype: datetime64[ns]"
      ]
     },
     "metadata": {},
     "execution_count": 44
    }
   ],
   "source": [
    "pd.to_datetime(df['Stiftelsesdato'], errors='coerce', infer_datetime_format=True) # uten errors='coerce' får jeg feilmelding. infer_datetime_format er for å spare tid på å forsøke ISO8601"
   ]
  },
  {
   "cell_type": "code",
   "execution_count": 41,
   "metadata": {},
   "outputs": [
    {
     "output_type": "execute_result",
     "data": {
      "text/plain": [
       "        Organisasjonsform.kode Stiftelsesdato\n",
       "948075                     STI     1277-09-13\n",
       "798696                     STI     1538-12-31\n",
       "46181                     ANNA     1550-12-31\n",
       "986540                     STI     1635-12-31\n",
       "892130                     ANS     1671-12-31\n",
       "...                        ...            ...\n",
       "1032596                    KBO     2021-04-21\n",
       "1032590                    KBO     2021-04-21\n",
       "1032572                    KBO     2021-04-21\n",
       "1035689                    KBO     2021-04-21\n",
       "1032576                    KBO     2021-04-21\n",
       "\n",
       "[578546 rows x 2 columns]"
      ],
      "text/html": "<div>\n<style scoped>\n    .dataframe tbody tr th:only-of-type {\n        vertical-align: middle;\n    }\n\n    .dataframe tbody tr th {\n        vertical-align: top;\n    }\n\n    .dataframe thead th {\n        text-align: right;\n    }\n</style>\n<table border=\"1\" class=\"dataframe\">\n  <thead>\n    <tr style=\"text-align: right;\">\n      <th></th>\n      <th>Organisasjonsform.kode</th>\n      <th>Stiftelsesdato</th>\n    </tr>\n  </thead>\n  <tbody>\n    <tr>\n      <th>948075</th>\n      <td>STI</td>\n      <td>1277-09-13</td>\n    </tr>\n    <tr>\n      <th>798696</th>\n      <td>STI</td>\n      <td>1538-12-31</td>\n    </tr>\n    <tr>\n      <th>46181</th>\n      <td>ANNA</td>\n      <td>1550-12-31</td>\n    </tr>\n    <tr>\n      <th>986540</th>\n      <td>STI</td>\n      <td>1635-12-31</td>\n    </tr>\n    <tr>\n      <th>892130</th>\n      <td>ANS</td>\n      <td>1671-12-31</td>\n    </tr>\n    <tr>\n      <th>...</th>\n      <td>...</td>\n      <td>...</td>\n    </tr>\n    <tr>\n      <th>1032596</th>\n      <td>KBO</td>\n      <td>2021-04-21</td>\n    </tr>\n    <tr>\n      <th>1032590</th>\n      <td>KBO</td>\n      <td>2021-04-21</td>\n    </tr>\n    <tr>\n      <th>1032572</th>\n      <td>KBO</td>\n      <td>2021-04-21</td>\n    </tr>\n    <tr>\n      <th>1035689</th>\n      <td>KBO</td>\n      <td>2021-04-21</td>\n    </tr>\n    <tr>\n      <th>1032576</th>\n      <td>KBO</td>\n      <td>2021-04-21</td>\n    </tr>\n  </tbody>\n</table>\n<p>578546 rows × 2 columns</p>\n</div>"
     },
     "metadata": {},
     "execution_count": 41
    }
   ],
   "source": [
    "df.loc[pd.notnull(df['Stiftelsesdato']), ['Organisasjonsform.kode', 'Stiftelsesdato']].sort_values('Stiftelsesdato')"
   ]
  },
  {
   "cell_type": "code",
   "execution_count": null,
   "metadata": {},
   "outputs": [],
   "source": []
  }
 ]
}